{
 "cells": [
  {
   "cell_type": "code",
   "execution_count": 134,
   "id": "854e5cff",
   "metadata": {},
   "outputs": [],
   "source": [
    "import requests\n",
    "import pandas as pd"
   ]
  },
  {
   "cell_type": "code",
   "execution_count": 135,
   "id": "6bf88b02",
   "metadata": {},
   "outputs": [],
   "source": [
    "# Скачивание данных по ссылке:\n",
    "\n",
    "url = 'https://testiws.ximad.com/export/events.csv.gz'\n",
    "req = requests.get(url)\n",
    "with open('events.csv.gz', \"wb\") as code:\n",
    "    code.write(req.content)\n",
    "\n",
    "del req    "
   ]
  },
  {
   "cell_type": "code",
   "execution_count": 136,
   "id": "464bc550",
   "metadata": {},
   "outputs": [],
   "source": [
    "# Загрузка скачанных по ссылке данных в таблицу:\n",
    "\n",
    "events = pd.read_csv('events.csv.gz')"
   ]
  },
  {
   "cell_type": "code",
   "execution_count": 137,
   "id": "a7abe0b6",
   "metadata": {},
   "outputs": [
    {
     "name": "stdout",
     "output_type": "stream",
     "text": [
      "<class 'pandas.core.frame.DataFrame'>\n",
      "RangeIndex: 3966791 entries, 0 to 3966790\n",
      "Data columns (total 4 columns):\n",
      " #   Column       Dtype  \n",
      "---  ------       -----  \n",
      " 0   event_time   object \n",
      " 1   event_name   object \n",
      " 2   user_id      object \n",
      " 3   event_value  float64\n",
      "dtypes: float64(1), object(3)\n",
      "memory usage: 121.1+ MB\n"
     ]
    }
   ],
   "source": [
    "# Общая информация по данным:\n",
    "\n",
    "events.info()"
   ]
  },
  {
   "cell_type": "code",
   "execution_count": 138,
   "id": "816f8956",
   "metadata": {},
   "outputs": [
    {
     "data": {
      "text/html": [
       "<div>\n",
       "<style scoped>\n",
       "    .dataframe tbody tr th:only-of-type {\n",
       "        vertical-align: middle;\n",
       "    }\n",
       "\n",
       "    .dataframe tbody tr th {\n",
       "        vertical-align: top;\n",
       "    }\n",
       "\n",
       "    .dataframe thead th {\n",
       "        text-align: right;\n",
       "    }\n",
       "</style>\n",
       "<table border=\"1\" class=\"dataframe\">\n",
       "  <thead>\n",
       "    <tr style=\"text-align: right;\">\n",
       "      <th></th>\n",
       "      <th>event_time</th>\n",
       "      <th>event_name</th>\n",
       "      <th>user_id</th>\n",
       "      <th>event_value</th>\n",
       "    </tr>\n",
       "  </thead>\n",
       "  <tbody>\n",
       "    <tr>\n",
       "      <th>0</th>\n",
       "      <td>2021-09-29</td>\n",
       "      <td>game_start</td>\n",
       "      <td>9586e17375389649</td>\n",
       "      <td>NaN</td>\n",
       "    </tr>\n",
       "    <tr>\n",
       "      <th>1</th>\n",
       "      <td>2021-09-23</td>\n",
       "      <td>game_finish</td>\n",
       "      <td>201bf35f4bb535fd</td>\n",
       "      <td>NaN</td>\n",
       "    </tr>\n",
       "    <tr>\n",
       "      <th>2</th>\n",
       "      <td>2021-09-25</td>\n",
       "      <td>game_finish</td>\n",
       "      <td>700eeb451fbf5197</td>\n",
       "      <td>NaN</td>\n",
       "    </tr>\n",
       "    <tr>\n",
       "      <th>3</th>\n",
       "      <td>2021-09-15</td>\n",
       "      <td>game_start</td>\n",
       "      <td>df651b8bdd042fd6</td>\n",
       "      <td>NaN</td>\n",
       "    </tr>\n",
       "    <tr>\n",
       "      <th>4</th>\n",
       "      <td>2021-09-09</td>\n",
       "      <td>game_finish</td>\n",
       "      <td>e84c3f343a5a66df</td>\n",
       "      <td>NaN</td>\n",
       "    </tr>\n",
       "  </tbody>\n",
       "</table>\n",
       "</div>"
      ],
      "text/plain": [
       "  event_time   event_name           user_id  event_value\n",
       "0 2021-09-29   game_start  9586e17375389649          NaN\n",
       "1 2021-09-23  game_finish  201bf35f4bb535fd          NaN\n",
       "2 2021-09-25  game_finish  700eeb451fbf5197          NaN\n",
       "3 2021-09-15   game_start  df651b8bdd042fd6          NaN\n",
       "4 2021-09-09  game_finish  e84c3f343a5a66df          NaN"
      ]
     },
     "execution_count": 138,
     "metadata": {},
     "output_type": "execute_result"
    }
   ],
   "source": [
    "df.head()"
   ]
  },
  {
   "cell_type": "code",
   "execution_count": 139,
   "id": "61f61cf8",
   "metadata": {},
   "outputs": [],
   "source": [
    "# Для расчета метрики APRDAU нам необходимо агрегировать данные по дням, поэтому в поле 'event_time' оставим \n",
    "# только дату события без времени:\n",
    "\n",
    "df['event_time'] = pd.to_datetime(df['event_time']).dt.normalize()"
   ]
  },
  {
   "cell_type": "code",
   "execution_count": 140,
   "id": "9efaed78",
   "metadata": {},
   "outputs": [
    {
     "data": {
      "text/plain": [
       "event_time\n",
       "2021-09-07    1010.0\n",
       "2021-09-08    1390.0\n",
       "2021-09-09    1270.0\n",
       "2021-09-10    1630.0\n",
       "2021-09-11    1940.0\n",
       "2021-09-12    1890.0\n",
       "2021-09-13    1190.0\n",
       "2021-09-14     790.0\n",
       "2021-09-15    1340.0\n",
       "2021-09-16     990.0\n",
       "2021-09-17     600.0\n",
       "2021-09-18    1170.0\n",
       "2021-09-19    1400.0\n",
       "2021-09-20     950.0\n",
       "2021-09-21     660.0\n",
       "2021-09-22     820.0\n",
       "2021-09-23     760.0\n",
       "2021-09-24    1480.0\n",
       "2021-09-25     830.0\n",
       "2021-09-26    1320.0\n",
       "2021-09-27     930.0\n",
       "2021-09-28     660.0\n",
       "2021-09-29    1250.0\n",
       "2021-09-30     620.0\n",
       "Name: event_value, dtype: float64"
      ]
     },
     "execution_count": 140,
     "metadata": {},
     "output_type": "execute_result"
    }
   ],
   "source": [
    "# Посчитаем выручку по дням:\n",
    "\n",
    "revenue = df.groupby('event_time')['event_value'].sum()\n",
    "revenue"
   ]
  },
  {
   "cell_type": "code",
   "execution_count": 141,
   "id": "7499a4d5",
   "metadata": {},
   "outputs": [
    {
     "data": {
      "text/plain": [
       "event_time\n",
       "2021-09-07    14686\n",
       "2021-09-08    14482\n",
       "2021-09-09    14574\n",
       "2021-09-10    14537\n",
       "2021-09-11    13637\n",
       "2021-09-12    14220\n",
       "2021-09-13    14607\n",
       "2021-09-14    14539\n",
       "2021-09-15    14276\n",
       "2021-09-16    14300\n",
       "2021-09-17    14242\n",
       "2021-09-18    13491\n",
       "2021-09-19    14085\n",
       "2021-09-20    14353\n",
       "2021-09-21    14434\n",
       "2021-09-22    14326\n",
       "2021-09-23    14249\n",
       "2021-09-24    14215\n",
       "2021-09-25    13584\n",
       "2021-09-26    13965\n",
       "2021-09-27    14336\n",
       "2021-09-28    14459\n",
       "2021-09-29    14144\n",
       "2021-09-30     8327\n",
       "Name: user_id, dtype: int64"
      ]
     },
     "execution_count": 141,
     "metadata": {},
     "output_type": "execute_result"
    }
   ],
   "source": [
    "# Посчитаем количество активных уникальных пользователей в день(DAU), исходя из значения поля 'event_name' равным 'launch' (запуск игры):\n",
    "\n",
    "dau = df[df['event_name'] == 'launch'].groupby('event_time')['user_id'].nunique()\n",
    "dau"
   ]
  },
  {
   "cell_type": "code",
   "execution_count": 142,
   "id": "a986f7e6",
   "metadata": {},
   "outputs": [
    {
     "data": {
      "text/plain": [
       "event_time\n",
       "2021-09-07    0.068773\n",
       "2021-09-08    0.095981\n",
       "2021-09-09    0.087141\n",
       "2021-09-10    0.112128\n",
       "2021-09-11    0.142260\n",
       "2021-09-12    0.132911\n",
       "2021-09-13    0.081468\n",
       "2021-09-14    0.054337\n",
       "2021-09-15    0.093864\n",
       "2021-09-16    0.069231\n",
       "2021-09-17    0.042129\n",
       "2021-09-18    0.086724\n",
       "2021-09-19    0.099397\n",
       "2021-09-20    0.066188\n",
       "2021-09-21    0.045725\n",
       "2021-09-22    0.057239\n",
       "2021-09-23    0.053337\n",
       "2021-09-24    0.104115\n",
       "2021-09-25    0.061101\n",
       "2021-09-26    0.094522\n",
       "2021-09-27    0.064872\n",
       "2021-09-28    0.045646\n",
       "2021-09-29    0.088377\n",
       "2021-09-30    0.074457\n",
       "dtype: float64"
      ]
     },
     "execution_count": 142,
     "metadata": {},
     "output_type": "execute_result"
    }
   ],
   "source": [
    "# Посчитаем ARPDAU по всем дням:\n",
    "\n",
    "arpdau = revenue / dau\n",
    "arpdau"
   ]
  },
  {
   "cell_type": "code",
   "execution_count": 143,
   "id": "720f3dc0",
   "metadata": {},
   "outputs": [
    {
     "data": {
      "text/plain": [
       "<AxesSubplot:title={'center':'ARPDAU'}, xlabel='event_time'>"
      ]
     },
     "execution_count": 143,
     "metadata": {},
     "output_type": "execute_result"
    },
    {
     "data": {
      "image/png": "[encoded data removed]",
      "text/plain": [
       "<Figure size 720x360 with 1 Axes>"
      ]
     },
     "metadata": {
      "needs_background": "light"
     },
     "output_type": "display_data"
    }
   ],
   "source": [
    "# График ARPDAU по дням:\n",
    "\n",
    "arpdau.plot(figsize=(10, 5), title = 'ARPDAU', grid=True)"
   ]
  },
  {
   "cell_type": "code",
   "execution_count": 144,
   "id": "44eb2459",
   "metadata": {},
   "outputs": [],
   "source": [
    "# При необходимости сохраним файл в нужном формате, например в CSV:\n",
    "\n",
    "arpdau.to_csv('arpdau_2021-09-07_2021-09-30.csv')"
   ]
  },
  {
   "cell_type": "code",
   "execution_count": null,
   "id": "67ea395d",
   "metadata": {},
   "outputs": [],
   "source": []
  }
 ],
 "metadata": {
  "kernelspec": {
   "display_name": "Python 3 (ipykernel)",
   "language": "python",
   "name": "python3"
  },
  "language_info": {
   "codemirror_mode": {
    "name": "ipython",
    "version": 3
   },
   "file_extension": ".py",
   "mimetype": "text/x-python",
   "name": "python",
   "nbconvert_exporter": "python",
   "pygments_lexer": "ipython3",
   "version": "3.8.12"
  }
 },
 "nbformat": 4,
 "nbformat_minor": 5
}
